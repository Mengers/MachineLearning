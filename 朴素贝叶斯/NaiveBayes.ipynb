{
 "cells": [
  {
   "cell_type": "code",
   "execution_count": 1,
   "metadata": {},
   "outputs": [],
   "source": [
    "import pandas as pd"
   ]
  },
  {
   "cell_type": "markdown",
   "metadata": {},
   "source": [
    "首先要有数据集"
   ]
  },
  {
   "cell_type": "code",
   "execution_count": 2,
   "metadata": {},
   "outputs": [],
   "source": [
    "data = [\n",
    "    {\"outlook\":\"sunny\", \"temp\":\"hot\", \"humidity\":\"high\", \"wind\":\"weak\", \"class\":\"no\" },\n",
    "    {\"outlook\":\"sunny\", \"temp\":\"hot\", \"humidity\":\"high\", \"wind\":\"strong\", \"class\":\"no\" },\n",
    "    {\"outlook\":\"overcast\", \"temp\":\"hot\", \"humidity\":\"high\", \"wind\":\"weak\", \"class\":\"yes\" },\n",
    "    {\"outlook\":\"rain\", \"temp\":\"mild\", \"humidity\":\"high\", \"wind\":\"weak\", \"class\":\"yes\" },\n",
    "    {\"outlook\":\"rain\", \"temp\":\"cool\", \"humidity\":\"normal\", \"wind\":\"weak\", \"class\":\"yes\" },\n",
    "    {\"outlook\":\"rain\", \"temp\":\"cool\", \"humidity\":\"normal\", \"wind\":\"strong\", \"class\":\"no\" },\n",
    "    {\"outlook\":\"overcast\", \"temp\":\"cool\", \"humidity\":\"normal\", \"wind\":\"strong\", \"class\":\"yes\" },\n",
    "    {\"outlook\":\"sunny\", \"temp\":\"mild\", \"humidity\":\"high\", \"wind\":\"weak\", \"class\":\"no\" },\n",
    "    {\"outlook\":\"sunny\", \"temp\":\"cool\", \"humidity\":\"normal\", \"wind\":\"weak\", \"class\":\"yes\" },\n",
    "    {\"outlook\":\"rain\", \"temp\":\"mild\", \"humidity\":\"normal\", \"wind\":\"weak\", \"class\":\"yes\" },  \n",
    "    {\"outlook\":\"sunny\", \"temp\":\"mild\", \"humidity\":\"normal\", \"wind\":\"strong\", \"class\":\"yes\" },\n",
    "    {\"outlook\":\"overcast\", \"temp\":\"mild\", \"humidity\":\"high\", \"wind\":\"strong\", \"class\":\"yes\" },\n",
    "    {\"outlook\":\"overcast\", \"temp\":\"hot\", \"humidity\":\"normal\", \"wind\":\"weak\", \"class\":\"yes\" },\n",
    "    {\"outlook\":\"rain\", \"temp\":\"mild\", \"humidity\":\"high\", \"wind\":\"strong\", \"class\":\"no\" }]\n",
    "\n",
    "test={\"outlook\":\"sunny\",\"temp\":\"cool\",\"humidity\":\"high\",\"wind\":\"strong\"}\n",
    "\n",
    "data = pd.DataFrame(data)"
   ]
  },
  {
   "cell_type": "code",
   "execution_count": 3,
   "metadata": {},
   "outputs": [
    {
     "data": {
      "text/html": [
       "<div>\n",
       "<style scoped>\n",
       "    .dataframe tbody tr th:only-of-type {\n",
       "        vertical-align: middle;\n",
       "    }\n",
       "\n",
       "    .dataframe tbody tr th {\n",
       "        vertical-align: top;\n",
       "    }\n",
       "\n",
       "    .dataframe thead th {\n",
       "        text-align: right;\n",
       "    }\n",
       "</style>\n",
       "<table border=\"1\" class=\"dataframe\">\n",
       "  <thead>\n",
       "    <tr style=\"text-align: right;\">\n",
       "      <th></th>\n",
       "      <th>class</th>\n",
       "      <th>humidity</th>\n",
       "      <th>outlook</th>\n",
       "      <th>temp</th>\n",
       "      <th>wind</th>\n",
       "    </tr>\n",
       "  </thead>\n",
       "  <tbody>\n",
       "    <tr>\n",
       "      <th>0</th>\n",
       "      <td>no</td>\n",
       "      <td>high</td>\n",
       "      <td>sunny</td>\n",
       "      <td>hot</td>\n",
       "      <td>weak</td>\n",
       "    </tr>\n",
       "    <tr>\n",
       "      <th>1</th>\n",
       "      <td>no</td>\n",
       "      <td>high</td>\n",
       "      <td>sunny</td>\n",
       "      <td>hot</td>\n",
       "      <td>strong</td>\n",
       "    </tr>\n",
       "    <tr>\n",
       "      <th>2</th>\n",
       "      <td>yes</td>\n",
       "      <td>high</td>\n",
       "      <td>overcast</td>\n",
       "      <td>hot</td>\n",
       "      <td>weak</td>\n",
       "    </tr>\n",
       "    <tr>\n",
       "      <th>3</th>\n",
       "      <td>yes</td>\n",
       "      <td>high</td>\n",
       "      <td>rain</td>\n",
       "      <td>mild</td>\n",
       "      <td>weak</td>\n",
       "    </tr>\n",
       "    <tr>\n",
       "      <th>4</th>\n",
       "      <td>yes</td>\n",
       "      <td>normal</td>\n",
       "      <td>rain</td>\n",
       "      <td>cool</td>\n",
       "      <td>weak</td>\n",
       "    </tr>\n",
       "    <tr>\n",
       "      <th>5</th>\n",
       "      <td>no</td>\n",
       "      <td>normal</td>\n",
       "      <td>rain</td>\n",
       "      <td>cool</td>\n",
       "      <td>strong</td>\n",
       "    </tr>\n",
       "    <tr>\n",
       "      <th>6</th>\n",
       "      <td>yes</td>\n",
       "      <td>normal</td>\n",
       "      <td>overcast</td>\n",
       "      <td>cool</td>\n",
       "      <td>strong</td>\n",
       "    </tr>\n",
       "    <tr>\n",
       "      <th>7</th>\n",
       "      <td>no</td>\n",
       "      <td>high</td>\n",
       "      <td>sunny</td>\n",
       "      <td>mild</td>\n",
       "      <td>weak</td>\n",
       "    </tr>\n",
       "    <tr>\n",
       "      <th>8</th>\n",
       "      <td>yes</td>\n",
       "      <td>normal</td>\n",
       "      <td>sunny</td>\n",
       "      <td>cool</td>\n",
       "      <td>weak</td>\n",
       "    </tr>\n",
       "    <tr>\n",
       "      <th>9</th>\n",
       "      <td>yes</td>\n",
       "      <td>normal</td>\n",
       "      <td>rain</td>\n",
       "      <td>mild</td>\n",
       "      <td>weak</td>\n",
       "    </tr>\n",
       "    <tr>\n",
       "      <th>10</th>\n",
       "      <td>yes</td>\n",
       "      <td>normal</td>\n",
       "      <td>sunny</td>\n",
       "      <td>mild</td>\n",
       "      <td>strong</td>\n",
       "    </tr>\n",
       "    <tr>\n",
       "      <th>11</th>\n",
       "      <td>yes</td>\n",
       "      <td>high</td>\n",
       "      <td>overcast</td>\n",
       "      <td>mild</td>\n",
       "      <td>strong</td>\n",
       "    </tr>\n",
       "    <tr>\n",
       "      <th>12</th>\n",
       "      <td>yes</td>\n",
       "      <td>normal</td>\n",
       "      <td>overcast</td>\n",
       "      <td>hot</td>\n",
       "      <td>weak</td>\n",
       "    </tr>\n",
       "    <tr>\n",
       "      <th>13</th>\n",
       "      <td>no</td>\n",
       "      <td>high</td>\n",
       "      <td>rain</td>\n",
       "      <td>mild</td>\n",
       "      <td>strong</td>\n",
       "    </tr>\n",
       "  </tbody>\n",
       "</table>\n",
       "</div>"
      ],
      "text/plain": [
       "   class humidity   outlook  temp    wind\n",
       "0     no     high     sunny   hot    weak\n",
       "1     no     high     sunny   hot  strong\n",
       "2    yes     high  overcast   hot    weak\n",
       "3    yes     high      rain  mild    weak\n",
       "4    yes   normal      rain  cool    weak\n",
       "5     no   normal      rain  cool  strong\n",
       "6    yes   normal  overcast  cool  strong\n",
       "7     no     high     sunny  mild    weak\n",
       "8    yes   normal     sunny  cool    weak\n",
       "9    yes   normal      rain  mild    weak\n",
       "10   yes   normal     sunny  mild  strong\n",
       "11   yes     high  overcast  mild  strong\n",
       "12   yes   normal  overcast   hot    weak\n",
       "13    no     high      rain  mild  strong"
      ]
     },
     "execution_count": 3,
     "metadata": {},
     "output_type": "execute_result"
    }
   ],
   "source": [
    "data"
   ]
  },
  {
   "cell_type": "markdown",
   "metadata": {},
   "source": [
    "#### 首先求得类先验概率\n",
    "* 根据大数定理，当训练集中包含充足的独立同分布的样本时,类先验概率可以由各类样本出现的频率估计"
   ]
  },
  {
   "cell_type": "code",
   "execution_count": 36,
   "metadata": {},
   "outputs": [],
   "source": [
    "def ClassOfPrior(data, class_name, class_val):\n",
    "    count = 0\n",
    "    m = data.shape[0]\n",
    "    for i in range(m):\n",
    "        if data.loc[i, class_name] == class_val:\n",
    "            count = count + 1\n",
    "    return count / len(data)"
   ]
  },
  {
   "cell_type": "markdown",
   "metadata": {},
   "source": [
    "#### 然后求的测试样本相应属性的条件概率"
   ]
  },
  {
   "cell_type": "code",
   "execution_count": 31,
   "metadata": {},
   "outputs": [],
   "source": [
    "def ConditionProb(data, class_name, class_val, attr_name, attr_val):\n",
    "    count1 = 0\n",
    "    count2 = 0\n",
    "    m = data.shape[0]\n",
    "    for i in range(m):\n",
    "        if data.loc[i, class_name] == class_val:\n",
    "            count1 += 1\n",
    "            if data.loc[i, attr_name] == attr_val:\n",
    "                count2 += 1\n",
    "    return count2 / count1"
   ]
  },
  {
   "cell_type": "markdown",
   "metadata": {},
   "source": [
    "#### 最后就是求得分类结果"
   ]
  },
  {
   "cell_type": "code",
   "execution_count": 37,
   "metadata": {},
   "outputs": [],
   "source": [
    "def NaiveBayes(data, test, class_name, class_y, class_n):\n",
    "    y_prob = ClassOfPrior(data, class_name, class_y)\n",
    "    n_prob = ClassOfPrior(data, class_name, class_n)\n",
    "    for attr_name, attr_val in test.items():\n",
    "        y_prob *= ConditionProb(data, class_name, class_y, attr_name, attr_val)\n",
    "        n_prob *= ConditionProb(data, class_name, class_n, attr_name, attr_val)\n",
    "    return {\"yes\": y_prob, \"no\": n_prob}"
   ]
  },
  {
   "cell_type": "code",
   "execution_count": 38,
   "metadata": {},
   "outputs": [
    {
     "data": {
      "text/plain": [
       "{'no': 0.02057142857142857, 'yes': 0.005291005291005291}"
      ]
     },
     "execution_count": 38,
     "metadata": {},
     "output_type": "execute_result"
    }
   ],
   "source": [
    "NaiveBayes(data, test, \"class\", \"yes\", \"no\")"
   ]
  },
  {
   "cell_type": "markdown",
   "metadata": {},
   "source": [
    "#### 有几点声明\n",
    "* 这个手撸代码很简单，只适合代码中的数据集，对其他数据集不适用\n",
    "* 当时写代码参考了网上的一个博客，现在找不到了，如大家看过，告诉我，我标注下引用，谢谢"
   ]
  },
  {
   "cell_type": "code",
   "execution_count": null,
   "metadata": {},
   "outputs": [],
   "source": []
  }
 ],
 "metadata": {
  "kernelspec": {
   "display_name": "Python 3",
   "language": "python",
   "name": "python3"
  },
  "language_info": {
   "codemirror_mode": {
    "name": "ipython",
    "version": 3
   },
   "file_extension": ".py",
   "mimetype": "text/x-python",
   "name": "python",
   "nbconvert_exporter": "python",
   "pygments_lexer": "ipython3",
   "version": "3.6.4"
  }
 },
 "nbformat": 4,
 "nbformat_minor": 2
}
