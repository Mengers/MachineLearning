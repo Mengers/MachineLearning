{
 "cells": [
  {
   "cell_type": "code",
   "execution_count": 1,
   "metadata": {},
   "outputs": [],
   "source": [
    "import numpy as np\n",
    "import matplotlib.pyplot as plt\n",
    "\n",
    "import warnings\n",
    "warnings.filterwarnings('ignore')\n",
    "\n",
    "%matplotlib inline"
   ]
  },
  {
   "cell_type": "markdown",
   "metadata": {},
   "source": [
    "#### 首先要导入数据，数据来自机器学习实战那本书上的数据集"
   ]
  },
  {
   "cell_type": "code",
   "execution_count": 2,
   "metadata": {},
   "outputs": [],
   "source": [
    "data = []\n",
    "label = []\n",
    "for line in open('testSet.txt').readlines():\n",
    "    tmpLine = line.strip().split()\n",
    "    data.append([1.0, float(tmpLine[0]), float(tmpLine[1])])\n",
    "    label.append(int(tmpLine[2]))"
   ]
  },
  {
   "cell_type": "code",
   "execution_count": 3,
   "metadata": {},
   "outputs": [],
   "source": [
    "data = np.matrix(data)\n",
    "label = np.matrix(label).transpose()"
   ]
  },
  {
   "cell_type": "markdown",
   "metadata": {},
   "source": [
    "#### 定义逻辑回归的sigmoid函数"
   ]
  },
  {
   "cell_type": "code",
   "execution_count": 4,
   "metadata": {},
   "outputs": [],
   "source": [
    "def sigmoid(x):\n",
    "    return 1 / (1 + np.exp(-x))"
   ]
  },
  {
   "cell_type": "markdown",
   "metadata": {},
   "source": [
    "#### 写出梯度下降算法，有３种类\n",
    "* 随机梯度下降\n",
    "* 批梯度下降\n",
    "* 小批量梯度下降"
   ]
  },
  {
   "cell_type": "code",
   "execution_count": 5,
   "metadata": {},
   "outputs": [],
   "source": [
    "# 随机梯度下降\n",
    "# data: 特征数据\n",
    "# label: 标签\n",
    "# alpha: 学习率\n",
    "# epoch: 迭代次数\n",
    "def SGD(data, label, alpha, epoch):\n",
    "    m, n = np.shape(data)\n",
    "    weights = np.ones((n, 1))\n",
    "    for i in range(epoch):\n",
    "        for j in np.random.permutation(m):\n",
    "            h = sigmoid(np.dot(data[j], weights))\n",
    "            error = h - label[j]\n",
    "            weights = weights - (alpha * error * data[j]).transpose()\n",
    "    return weights"
   ]
  },
  {
   "cell_type": "code",
   "execution_count": 6,
   "metadata": {},
   "outputs": [],
   "source": [
    "# 批梯度下降\n",
    "# data: 特征数据\n",
    "# label: 标签\n",
    "# alpha: 学习率\n",
    "# epoch: 迭代次数\n",
    "def BSG(data, label, alpha, epoch):\n",
    "    m, n = np.shape(data)\n",
    "    weights = np.ones((n, 1))\n",
    "    for i in range(epoch):\n",
    "        h = sigmoid(np.dot(data, weights))\n",
    "        error = h - label\n",
    "        weights = weights - np.dot(data.T, error) * alpha / m\n",
    "    return weights"
   ]
  },
  {
   "cell_type": "code",
   "execution_count": 11,
   "metadata": {},
   "outputs": [],
   "source": [
    "# 小批量梯度下降\n",
    "# data: 特征数据\n",
    "# label: 标签\n",
    "# alpha: 学习率\n",
    "# epoch: 迭代次数\n",
    "# miniBatch: 一个小批量的大小\n",
    "def miniBSG(data, label, alpha, epoch, miniBatch):\n",
    "    m, n = np.shape(data)\n",
    "    weights = np.ones((n, 1))\n",
    "    for i in range(epoch):\n",
    "        arr_reflash = np.random.permutation(m)\n",
    "        miniBatch_arr = np.array_split(arr_reflash, miniBatch)\n",
    "        for mini in miniBatch_arr:\n",
    "            h = sigmoid(np.dot(data[mini], weights))\n",
    "            error = h - label[mini]\n",
    "            weights = weights - np.dot(data[mini].T, error) * alpha / miniBatch\n",
    "    return weights"
   ]
  },
  {
   "cell_type": "markdown",
   "metadata": {},
   "source": [
    "#### 画出分界线"
   ]
  },
  {
   "cell_type": "code",
   "execution_count": 16,
   "metadata": {},
   "outputs": [],
   "source": [
    "def plotLine(data, label, weights):\n",
    "    m = np.shape(data)[0]\n",
    "    x1 = []\n",
    "    y1 = []\n",
    "    x2 = []\n",
    "    y2 = []\n",
    "    for i in range(m):\n",
    "        if(label[i] == 1):\n",
    "            x1.append(data[i, 1])\n",
    "            y1.append(data[i, 2])\n",
    "        else:\n",
    "            x2.append(data[i, 1])\n",
    "            y2.append(data[i, 2])\n",
    "    plt.figure(figsize=(10, 5))\n",
    "    plt.scatter(x1, y1, c='r', marker='o')\n",
    "    plt.scatter(x2, y2, c='g', marker='x')\n",
    "    x = np.arange(-4, 4, 0.1)\n",
    "    y = ((- weights[0] - weights[1] * x) / weights[2]).T\n",
    "    plt.plot(x, y)\n",
    "    plt.xlabel('X1')\n",
    "    plt.ylabel('X2')"
   ]
  },
  {
   "cell_type": "code",
   "execution_count": 19,
   "metadata": {},
   "outputs": [
    {
     "data": {
      "image/png": "[encoded data removed]",
      "text/plain": [
       "<matplotlib.figure.Figure at 0x7f7861056160>"
      ]
     },
     "metadata": {},
     "output_type": "display_data"
    }
   ],
   "source": [
    "plotLine(data, label, weights)"
   ]
  },
  {
   "cell_type": "code",
   "execution_count": null,
   "metadata": {},
   "outputs": [],
   "source": []
  }
 ],
 "metadata": {
  "kernelspec": {
   "display_name": "Python 3",
   "language": "python",
   "name": "python3"
  },
  "language_info": {
   "codemirror_mode": {
    "name": "ipython",
    "version": 3
   },
   "file_extension": ".py",
   "mimetype": "text/x-python",
   "name": "python",
   "nbconvert_exporter": "python",
   "pygments_lexer": "ipython3",
   "version": "3.6.4"
  }
 },
 "nbformat": 4,
 "nbformat_minor": 2
}
